{
  "nbformat": 4,
  "nbformat_minor": 0,
  "metadata": {
    "colab": {
      "provenance": [],
      "collapsed_sections": [
        "kNuP0SDUZMBY"
      ]
    },
    "kernelspec": {
      "name": "python3",
      "display_name": "Python 3"
    },
    "language_info": {
      "name": "python"
    }
  },
  "cells": [
    {
      "cell_type": "markdown",
      "source": [
        "# Santander Dev Week 2023 (ETL com Python)"
      ],
      "metadata": {
        "id": "BPJQsTCULaC-"
      }
    },
    {
      "cell_type": "markdown",
      "source": [
        "**Contexto:** Você é um cientista de dados no Santander e recebeu a tarefa de envolver seus clientes de maneira mais personalizada. Seu objetivo é usar o poder da IA Generativa para criar mensagens de marketing personalizadas que serão entregues a cada cliente.\n",
        "\n",
        "**Condições do Problema:**\n",
        "\n",
        "1. Você recebeu uma planilha simples, em formato CSV ('SDW2023.csv'), com uma lista de IDs de usuário do banco:\n",
        "  ```\n",
        "  UserID\n",
        "  1\n",
        "  2\n",
        "  3\n",
        "  4\n",
        "  5\n",
        "  ```\n",
        "2. Seu trabalho é consumir o endpoint `GET https://sdw-2023-prd.up.railway.app/users/{id}` (API da Santander Dev Week 2023) para obter os dados de cada cliente.\n",
        "3. Depois de obter os dados dos clientes, você vai usar a API do ChatGPT (OpenAI) para gerar uma mensagem de marketing personalizada para cada cliente. Essa mensagem deve enfatizar a importância dos investimentos.\n",
        "4. Uma vez que a mensagem para cada cliente esteja pronta, você vai enviar essas informações de volta para a API, atualizando a lista de \"news\" de cada usuário usando o endpoint `PUT https://sdw-2023-prd.up.railway.app/users/{id}`.\n",
        "\n"
      ],
      "metadata": {
        "id": "k5fA5OrXt1a3"
      }
    },
    {
      "cell_type": "code",
      "source": [
        "from google.colab import drive\n",
        "drive.mount('/content/drive')"
      ],
      "metadata": {
        "colab": {
          "base_uri": "https://localhost:8080/"
        },
        "id": "jqgFAWvIAW39",
        "outputId": "8317a40a-5c30-4ce8-db64-64c407584458"
      },
      "execution_count": 4,
      "outputs": [
        {
          "output_type": "stream",
          "name": "stdout",
          "text": [
            "Mounted at /content/drive\n"
          ]
        }
      ]
    },
    {
      "cell_type": "code",
      "source": [
        "# Utilize sua própria URL se quiser ;)\n",
        "# Repositório da API: https://github.com/digitalinnovationone/santander-dev-week-2023-api\n",
        "sdw2023_api_url = 'https://sdw-2023-prd.up.railway.app'"
      ],
      "metadata": {
        "id": "FKqLC_CWoYqR"
      },
      "execution_count": 5,
      "outputs": []
    },
    {
      "cell_type": "markdown",
      "source": [
        "## **E**xtract\n",
        "\n",
        "Extraia a lista de IDs de usuário a partir do arquivo CSV. Para cada ID, faça uma requisição GET para obter os dados do usuário correspondente."
      ],
      "metadata": {
        "id": "9dfI-o7gLRq9"
      }
    },
    {
      "cell_type": "code",
      "execution_count": 7,
      "metadata": {
        "id": "NYydpX_GLRCB",
        "colab": {
          "base_uri": "https://localhost:8080/"
        },
        "outputId": "f45314c0-2d10-455e-f611-f47424a46ab0"
      },
      "outputs": [
        {
          "output_type": "stream",
          "name": "stdout",
          "text": [
            "[1, 2, 3, 4, 5, 4573]\n"
          ]
        }
      ],
      "source": [
        "import pandas as pd\n",
        "\n",
        "df = pd.read_csv('SDW2023.csv')\n",
        "user_ids = df['UserID'].tolist()\n",
        "print(user_ids)"
      ]
    },
    {
      "cell_type": "code",
      "source": [
        "import requests\n",
        "import json\n",
        "\n",
        "def get_user(id):\n",
        "  response = requests.get(f'{sdw2023_api_url}/users/{id}')\n",
        "  return response.json() if response.status_code == 200 else None\n",
        "\n",
        "users = [user for id in user_ids if (user := get_user(id)) is not None]\n",
        "print(json.dumps(users, indent=2))"
      ],
      "metadata": {
        "id": "F5XOuCZGSTGw",
        "colab": {
          "base_uri": "https://localhost:8080/"
        },
        "outputId": "a17e4324-2ed2-4bd2-f573-f53ecc364623"
      },
      "execution_count": 18,
      "outputs": [
        {
          "output_type": "stream",
          "name": "stdout",
          "text": [
            "[\n",
            "  {\n",
            "    \"id\": 1,\n",
            "    \"name\": \"Devweekerson\",\n",
            "    \"account\": {\n",
            "      \"id\": 1,\n",
            "      \"number\": \"01.097954-4\",\n",
            "      \"agency\": \"2030\",\n",
            "      \"balance\": 624.12,\n",
            "      \"limit\": 1000.0\n",
            "    },\n",
            "    \"card\": {\n",
            "      \"id\": 1,\n",
            "      \"number\": \"xxxx xxxx xxxx 1111\",\n",
            "      \"limit\": 2000.0\n",
            "    },\n",
            "    \"features\": [\n",
            "      {\n",
            "        \"id\": 2,\n",
            "        \"icon\": \"https://digitalinnovationone.github.io/santander-dev-week-2023-api/icons/pay.svg\",\n",
            "        \"description\": \"Pagar\"\n",
            "      },\n",
            "      {\n",
            "        \"id\": 3,\n",
            "        \"icon\": \"https://digitalinnovationone.github.io/santander-dev-week-2023-api/icons/transfer.svg\",\n",
            "        \"description\": \"Transferir\"\n",
            "      },\n",
            "      {\n",
            "        \"id\": 4,\n",
            "        \"icon\": \"https://digitalinnovationone.github.io/santander-dev-week-2023-api/icons/account.svg\",\n",
            "        \"description\": \"Conta Corrente\"\n",
            "      },\n",
            "      {\n",
            "        \"id\": 5,\n",
            "        \"icon\": \"https://digitalinnovationone.github.io/santander-dev-week-2023-api/icons/cards.svg\",\n",
            "        \"description\": \"Cart\\u00f5es\"\n",
            "      },\n",
            "      {\n",
            "        \"id\": 1,\n",
            "        \"icon\": \"https://digitalinnovationone.github.io/santander-dev-week-2023-api/icons/pix.svg\",\n",
            "        \"description\": \"PIX\"\n",
            "      }\n",
            "    ],\n",
            "    \"news\": [\n",
            "      {\n",
            "        \"id\": 1,\n",
            "        \"icon\": \"https://digitalinnovationone.github.io/santander-dev-week-2023-api/icons/credit.svg\",\n",
            "        \"description\": \"O Santander tem solu\\u00e7\\u00f5es de cr\\u00e9dito sob medida pra voc\\u00ea. Confira!\"\n",
            "      },\n",
            "      {\n",
            "        \"id\": 2,\n",
            "        \"icon\": \"https://digitalinnovationone.github.io/santander-dev-week-2023-api/icons/insurance.svg\",\n",
            "        \"description\": \"Santander Seguro Casa, seu faz-tudo. Mais de 50 servi\\u00e7os pra voc\\u00ea. Confira!\"\n",
            "      }\n",
            "    ]\n",
            "  },\n",
            "  {\n",
            "    \"id\": 4573,\n",
            "    \"name\": \"Isa\",\n",
            "    \"account\": {\n",
            "      \"id\": 4850,\n",
            "      \"number\": \"354119444\",\n",
            "      \"agency\": \"string\",\n",
            "      \"balance\": 0.0,\n",
            "      \"limit\": 0.0\n",
            "    },\n",
            "    \"card\": {\n",
            "      \"id\": 4437,\n",
            "      \"number\": \"121162255\",\n",
            "      \"limit\": 0.0\n",
            "    },\n",
            "    \"features\": [],\n",
            "    \"news\": [\n",
            "      {\n",
            "        \"id\": 8599,\n",
            "        \"icon\": \"https://digitalinnovationone.github.io/santander-dev-week-2023-api/icons/credit.svg\",\n",
            "        \"description\": \"A import\\u00e2ncia dos investimentos para Isa: Garantir um futuro financeiro seguro e pr\\u00f3spero.\"\n",
            "      },\n",
            "      {\n",
            "        \"id\": 8940,\n",
            "        \"icon\": \"https://digitalinnovationone.github.io/santander-dev-week-2023-api/icons/credit.svg\",\n",
            "        \"description\": \"\"\n",
            "      },\n",
            "      {\n",
            "        \"id\": 8941,\n",
            "        \"icon\": \"https://digitalinnovationone.github.io/santander-dev-week-2023-api/icons/credit.svg\",\n",
            "        \"description\": \"Isa, fa\\u00e7a seu dinheiro trabalhar para voc\\u00ea. Invista com confian\\u00e7a! #CrescimentoFinanceiro\"\n",
            "      },\n",
            "      {\n",
            "        \"id\": 8960,\n",
            "        \"icon\": \"https://digitalinnovationone.github.io/santander-dev-week-2023-api/icons/credit.svg\",\n",
            "        \"description\": \"Isa, fa\\u00e7a seu dinheiro trabalhar para voc\\u00ea. Invista com confian\\u00e7a! #CrescimentoFinanceiro\"\n",
            "      },\n",
            "      {\n",
            "        \"id\": 9458,\n",
            "        \"icon\": \"https://digitalinnovationone.github.io/santander-dev-week-2023-api/icons/credit.svg\",\n",
            "        \"description\": \"Isa, invista seu dinheiro: \\u00e9 o caminho seguro para crescimento financeiro e tranquilidade futura.\"\n",
            "      },\n",
            "      {\n",
            "        \"id\": 9808,\n",
            "        \"icon\": \"https://digitalinnovationone.github.io/santander-dev-week-2023-api/icons/credit.svg\",\n",
            "        \"description\": \"Invista para um futuro financeiro s\\u00f3lido.\"\n",
            "      },\n",
            "      {\n",
            "        \"id\": 9809,\n",
            "        \"icon\": \"https://digitalinnovationone.github.io/santander-dev-week-2023-api/icons/credit.svg\",\n",
            "        \"description\": \"Invista seu dinheiro e garanta seu futuro financeiro.\"\n",
            "      },\n",
            "      {\n",
            "        \"id\": 9847,\n",
            "        \"icon\": \"https://digitalinnovationone.github.io/santander-dev-week-2023-api/icons/credit.svg\",\n",
            "        \"description\": \"Invista hoje para um futuro seguro! #InvistaJa\"\n",
            "      },\n",
            "      {\n",
            "        \"id\": 9848,\n",
            "        \"icon\": \"https://digitalinnovationone.github.io/santander-dev-week-2023-api/icons/credit.svg\",\n",
            "        \"description\": \"Invista no seu futuro: fa\\u00e7a os seus recursos trabalharem por voc\\u00ea!\"\n",
            "      },\n",
            "      {\n",
            "        \"id\": 9849,\n",
            "        \"icon\": \"https://digitalinnovationone.github.io/santander-dev-week-2023-api/icons/credit.svg\",\n",
            "        \"description\": \"Invista no seu futuro! Fa\\u00e7a seus recursos trabalharem para voc\\u00ea.\"\n",
            "      },\n",
            "      {\n",
            "        \"id\": 9850,\n",
            "        \"icon\": \"https://digitalinnovationone.github.io/santander-dev-week-2023-api/icons/credit.svg\",\n",
            "        \"description\": \"Invista agora e garanta seu futuro financeiro. #InvistaComSabedoria\"\n",
            "      },\n",
            "      {\n",
            "        \"id\": 9851,\n",
            "        \"icon\": \"https://digitalinnovationone.github.io/santander-dev-week-2023-api/icons/credit.svg\",\n",
            "        \"description\": \"Invista agora para garantir seu futuro.\"\n",
            "      },\n",
            "      {\n",
            "        \"id\": 9852,\n",
            "        \"icon\": \"https://digitalinnovationone.github.io/santander-dev-week-2023-api/icons/credit.svg\",\n",
            "        \"description\": \"Investir: garanta seu futuro financeiro!\"\n",
            "      },\n",
            "      {\n",
            "        \"id\": 9853,\n",
            "        \"icon\": \"https://digitalinnovationone.github.io/santander-dev-week-2023-api/icons/credit.svg\",\n",
            "        \"description\": \"Invista agora e colha os frutos amanh\\u00e3!\"\n",
            "      },\n",
            "      {\n",
            "        \"id\": 10098,\n",
            "        \"icon\": \"https://digitalinnovationone.github.io/santander-dev-week-2023-api/icons/credit.svg\",\n",
            "        \"description\": \"Invista no seu futuro, comece hoje!\"\n",
            "      },\n",
            "      {\n",
            "        \"id\": 10733,\n",
            "        \"icon\": \"https://digitalinnovationone.github.io/santander-dev-week-2023-api/icons/credit.svg\",\n",
            "        \"description\": \"Invista no seu futuro, fa\\u00e7a seu dinheiro trabalhar por voc\\u00ea!\"\n",
            "      },\n",
            "      {\n",
            "        \"id\": 10736,\n",
            "        \"icon\": \"https://digitalinnovationone.github.io/santander-dev-week-2023-api/icons/credit.svg\",\n",
            "        \"description\": \"Seu futuro merece investimentos inteligentes! \\ud83d\\udcbc\\ud83d\\udcb0\"\n",
            "      },\n",
            "      {\n",
            "        \"id\": 10842,\n",
            "        \"icon\": \"https://digitalinnovationone.github.io/santander-dev-week-2023-api/icons/credit.svg\",\n",
            "        \"description\": \"Mensagem adicionada por Silvana em 22/10/2023\"\n",
            "      },\n",
            "      {\n",
            "        \"id\": 10843,\n",
            "        \"icon\": null,\n",
            "        \"description\": \"Mensagem adicionada por Silvana em 22/10/2023\"\n",
            "      },\n",
            "      {\n",
            "        \"id\": 10847,\n",
            "        \"icon\": null,\n",
            "        \"description\": \"Ol\\u00e1 Isa fiquei feliz em saber que voc\\u00ea est\\u00e1 se preparando para um futuro abundante, para mais dicas de investimento entre em contato comigo pelo telefone (XX) xxxxx - xxxxx\"\n",
            "      },\n",
            "      {\n",
            "        \"id\": 10848,\n",
            "        \"icon\": null,\n",
            "        \"description\": \"Ola Isa fiquei feliz em saber que voc\\u00ea esta se preparando para um futuro abundante, para mais dicas de investimento entre em contato comigo pelo telefone (XX) xxxxx - xxxxx\"\n",
            "      },\n",
            "      {\n",
            "        \"id\": 10849,\n",
            "        \"icon\": null,\n",
            "        \"description\": \"Ola Isa fiquei feliz em saber que voce esta se preparando para um futuro abundante, para mais dicas de investimento entre em contato comigo pelo telefone (XX) xxxxx - xxxxx\"\n",
            "      }\n",
            "    ]\n",
            "  }\n",
            "]\n"
          ]
        }
      ]
    },
    {
      "cell_type": "markdown",
      "source": [
        "## **T**ransform\n",
        "\n",
        "Acrescenta mensagem personalizada com nome e limite da conta do usuário"
      ],
      "metadata": {
        "id": "cWoqInB4TF1x"
      }
    },
    {
      "cell_type": "code",
      "source": [
        "for user in users:\n",
        "  user['news'].append({\n",
        "\n",
        "      \"description\": f\"Ola {user['name']} fiquei feliz em saber que voce esta se preparando para um futuro abundante. Hoje voce tem um limite de {user['account']['limit']}. Para mais dicas de investimento entre em contato comigo pelo telefone (99) 99999 - 9999.\"\n",
        "  })"
      ],
      "metadata": {
        "id": "yLUcwVVqQBEf"
      },
      "execution_count": 16,
      "outputs": []
    },
    {
      "cell_type": "markdown",
      "source": [
        "## **L**oad\n",
        "\n",
        "Atualize a lista de \"news\" de cada usuário na API com a nova mensagem gerada."
      ],
      "metadata": {
        "id": "kNuP0SDUZMBY"
      }
    },
    {
      "cell_type": "code",
      "source": [
        "def update_user(user):\n",
        "  response = requests.put(f\"{sdw2023_api_url}/users/{user['id']}\", json=user)\n",
        "  return True if response.status_code == 200 else False\n",
        "\n",
        "for user in users:\n",
        "  success = update_user(user)\n",
        "  print(f\"User {user['name']} updated? {success}!\")"
      ],
      "metadata": {
        "id": "YefWfYBoZMN2",
        "colab": {
          "base_uri": "https://localhost:8080/"
        },
        "outputId": "2c34a0e9-2da2-4db5-835e-91dd56ab0891"
      },
      "execution_count": 17,
      "outputs": [
        {
          "output_type": "stream",
          "name": "stdout",
          "text": [
            "User Devweekerson updated? False!\n",
            "User Isa updated? True!\n"
          ]
        }
      ]
    }
  ]
}
